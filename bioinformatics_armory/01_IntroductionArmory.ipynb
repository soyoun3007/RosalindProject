{
 "cells": [
  {
   "cell_type": "markdown",
   "id": "b7c01dc2",
   "metadata": {},
   "source": [
    "https://rosalind.info/problems/ini/\n",
    "\n",
    "Equivalent to \"Counting DNA Nucleotides\""
   ]
  },
  {
   "cell_type": "code",
   "execution_count": 2,
   "id": "de583430",
   "metadata": {},
   "outputs": [
    {
     "name": "stdout",
     "output_type": "stream",
     "text": [
      "260 239 237 228\n"
     ]
    }
   ],
   "source": [
    "file = \"problem.txt\"\n",
    "\n",
    "from Bio.Seq import Seq \n",
    "\n",
    "with open(file, \"r\") as f:\n",
    "    seq = Seq(f.read())\n",
    "    print(seq.count(\"A\"), seq.count(\"C\"), seq.count(\"G\"), seq.count(\"T\"))"
   ]
  },
  {
   "cell_type": "code",
   "execution_count": null,
   "id": "5fe02868",
   "metadata": {},
   "outputs": [],
   "source": []
  }
 ],
 "metadata": {
  "kernelspec": {
   "display_name": "Python 3 (ipykernel)",
   "language": "python",
   "name": "python3"
  },
  "language_info": {
   "codemirror_mode": {
    "name": "ipython",
    "version": 3
   },
   "file_extension": ".py",
   "mimetype": "text/x-python",
   "name": "python",
   "nbconvert_exporter": "python",
   "pygments_lexer": "ipython3",
   "version": "3.9.7"
  }
 },
 "nbformat": 4,
 "nbformat_minor": 5
}
