{
 "cells": [
  {
   "cell_type": "markdown",
   "id": "2ae837d4",
   "metadata": {},
   "source": [
    "https://rosalind.info/problems/meme/\n",
    "\n",
    "Request a query<br>\n",
    "https://meme-suite.org/meme/tools/meme\n",
    "\n",
    "Save xml file named 'meme.xml'"
   ]
  },
  {
   "cell_type": "code",
   "execution_count": 2,
   "id": "4c15a877",
   "metadata": {},
   "outputs": [
    {
     "name": "stdout",
     "output_type": "stream",
     "text": [
      "PQSKNNSPN[DH]QPMGQMRDP[VNR]P[YHL][CSV]FMMKNKPRHPFFR\n"
     ]
    }
   ],
   "source": [
    "regular_expression = []\n",
    "\n",
    "with open('meme.xml', 'r') as f:\n",
    "    lines = f.readlines()\n",
    "    for i in range(0, len(lines)):\n",
    "        if \"<regular_expression>\" in lines[i]:\n",
    "            regular_expression.append(lines[i+1].rstrip())\n",
    "            \n",
    "print(regular_expression[0])"
   ]
  },
  {
   "cell_type": "code",
   "execution_count": null,
   "id": "65cf1b53",
   "metadata": {},
   "outputs": [],
   "source": []
  }
 ],
 "metadata": {
  "kernelspec": {
   "display_name": "Python 3 (ipykernel)",
   "language": "python",
   "name": "python3"
  },
  "language_info": {
   "codemirror_mode": {
    "name": "ipython",
    "version": 3
   },
   "file_extension": ".py",
   "mimetype": "text/x-python",
   "name": "python",
   "nbconvert_exporter": "python",
   "pygments_lexer": "ipython3",
   "version": "3.9.7"
  }
 },
 "nbformat": 4,
 "nbformat_minor": 5
}
