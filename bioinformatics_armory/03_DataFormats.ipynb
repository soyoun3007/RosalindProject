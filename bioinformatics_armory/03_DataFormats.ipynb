{
 "cells": [
  {
   "cell_type": "markdown",
   "id": "d517a4bf",
   "metadata": {},
   "source": [
    "https://rosalind.info/problems/frmt/"
   ]
  },
  {
   "cell_type": "code",
   "execution_count": 28,
   "id": "f0c08d60",
   "metadata": {},
   "outputs": [
    {
     "name": "stdout",
     "output_type": "stream",
     "text": [
      "['JX393321', 'JF927157', 'JX317622', 'GU292427', 'JX069768', 'NM_001003102', 'JX914595', 'JX475048\\n']\n"
     ]
    }
   ],
   "source": [
    "file = \"problem.txt\"\n",
    "\n",
    "with open(file, \"r\") as f:\n",
    "    line = f.read().split(\" \")\n",
    "    print(line)"
   ]
  },
  {
   "cell_type": "code",
   "execution_count": 29,
   "id": "db167694",
   "metadata": {
    "scrolled": true
   },
   "outputs": [
    {
     "name": "stdout",
     "output_type": "stream",
     "text": [
      ">JX317622.1 Ochlerotatus triseriatus prohibitin-1 mRNA, partial cds\n",
      "GCGCTGCGTATTCTGTTCCGACCGATTCCGGATCAGCTGCCGAAGATCTACACAATTCTGGGTCCGGATT\n",
      "ACGACGAGCGAGTGCTTCCGTCGATTACGACTGAAGTCCTGAAGGCCGTCGTGGCCCAGTTCGATGCCGG\n",
      "AGAGTTGATCACCCAGCGTGAGATGGTGTCGCAGAAGGTTTCCGACGATCTGACCGAACGTGCCGCCCAG\n",
      "TTCGGCGTCATTCTGGATGACATTTCGATTACGCATTTGACGTTCGGAAAGGAATTCACGCAGGCCGTTG\n",
      "AAATGAAGCAGGTTGCCCAGCAGGAAGCCGAGAAGGCCCGGTTCATGGTCGAAAAGGCGGAACAGATGAA\n",
      "GATGGCTGCGATCATTTCGGCGGAAGGTGACGCCGAGGCTGCTGCCCTACTGGCGAAATCGTTCGGCGAC\n",
      "AGCGGAGACGGTTTGGTCGAACTGCGAAGAATCGAAGCGGCCGAGGACATTGCCTACCAGATGAGCCGGT\n",
      "CC\n",
      "\n",
      "\n"
     ]
    }
   ],
   "source": [
    "from Bio import Entrez\n",
    "from Bio import SeqIO\n",
    "\n",
    "Entrez.email = \"email@google.ca\"\n",
    "\n",
    "seq_len_list = []\n",
    "\n",
    "for gene_id in line:\n",
    "    with Entrez.efetch(db=\"nucleotide\", rettype=\"fasta\", retmode=\"text\", id=gene_id) as handle:\n",
    "        seq_record = SeqIO.read(handle, \"fasta\")\n",
    "        seq_len_list.append(len(seq_record.seq))\n",
    "        \n",
    "i = seq_len_list.index(min(seq_len_list))\n",
    "seq_id = line[i]\n",
    "            \n",
    "with Entrez.efetch(db=\"nucleotide\", rettype=\"fasta\", retmode=\"text\", id=seq_id) as handle:\n",
    "    records = handle.read()\n",
    "    print(records)\n",
    "    "
   ]
  },
  {
   "cell_type": "code",
   "execution_count": null,
   "id": "85e769dd",
   "metadata": {},
   "outputs": [],
   "source": []
  }
 ],
 "metadata": {
  "kernelspec": {
   "display_name": "Python 3 (ipykernel)",
   "language": "python",
   "name": "python3"
  },
  "language_info": {
   "codemirror_mode": {
    "name": "ipython",
    "version": 3
   },
   "file_extension": ".py",
   "mimetype": "text/x-python",
   "name": "python",
   "nbconvert_exporter": "python",
   "pygments_lexer": "ipython3",
   "version": "3.9.7"
  }
 },
 "nbformat": 4,
 "nbformat_minor": 5
}
