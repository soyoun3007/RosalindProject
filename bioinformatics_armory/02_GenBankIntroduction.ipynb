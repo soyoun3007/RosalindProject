{
 "cells": [
  {
   "cell_type": "markdown",
   "id": "12f68431",
   "metadata": {},
   "source": [
    "https://rosalind.info/problems/gbk/\n",
    "\n",
    "Biopython.Entrez\n",
    "https://biopython.org/docs/1.76/api/Bio.Entrez.html"
   ]
  },
  {
   "cell_type": "code",
   "execution_count": 1,
   "id": "3d16b4e9",
   "metadata": {},
   "outputs": [
    {
     "name": "stdout",
     "output_type": "stream",
     "text": [
      "7\n"
     ]
    }
   ],
   "source": [
    "from Bio import Entrez\n",
    "\n",
    "Entrez.email = \"email@google.ca\"\n",
    "\n",
    "file = \"sample.txt\"\n",
    "\n",
    "with open(file, \"r\") as f:\n",
    "    line = f.readlines()\n",
    "    genus, date1, date2 = line[0].rstrip(), line[1].rstrip(), line[2].rstrip()\n",
    "    \n",
    "term = f\"{genus}[Organism]\"\n",
    "\n",
    "with Entrez.esearch(db=\"nucleotide\", term=term, datetype=\"pdat\", mindate=date1, maxdate=date2) as handle:\n",
    "    records = Entrez.read(handle)\n",
    "    print(records[\"Count\"])"
   ]
  },
  {
   "cell_type": "code",
   "execution_count": null,
   "id": "5ae993a3",
   "metadata": {},
   "outputs": [],
   "source": []
  }
 ],
 "metadata": {
  "kernelspec": {
   "display_name": "Python 3 (ipykernel)",
   "language": "python",
   "name": "python3"
  },
  "language_info": {
   "codemirror_mode": {
    "name": "ipython",
    "version": 3
   },
   "file_extension": ".py",
   "mimetype": "text/x-python",
   "name": "python",
   "nbconvert_exporter": "python",
   "pygments_lexer": "ipython3",
   "version": "3.9.7"
  }
 },
 "nbformat": 4,
 "nbformat_minor": 5
}
