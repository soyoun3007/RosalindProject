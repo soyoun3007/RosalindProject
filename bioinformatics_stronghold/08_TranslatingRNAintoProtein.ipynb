{
 "cells": [
  {
   "cell_type": "markdown",
   "id": "9ad46cc5",
   "metadata": {},
   "source": [
    "https://rosalind.info/problems/prot/"
   ]
  },
  {
   "cell_type": "code",
   "execution_count": 2,
   "id": "ecc7c636",
   "metadata": {},
   "outputs": [
    {
     "name": "stdout",
     "output_type": "stream",
     "text": [
      "MAMAPRTEINSTRING\n"
     ]
    }
   ],
   "source": [
    "from Bio.Seq import Seq\n",
    "\n",
    "file = \"sample.txt\"\n",
    "\n",
    "with open(file, \"r\") as f:\n",
    "    file = f.read()\n",
    "    seq = Seq(file)\n",
    "    print(seq.translate(to_stop=True))"
   ]
  },
  {
   "cell_type": "code",
   "execution_count": null,
   "id": "f9dd0966",
   "metadata": {},
   "outputs": [],
   "source": []
  }
 ],
 "metadata": {
  "kernelspec": {
   "display_name": "Python 3 (ipykernel)",
   "language": "python",
   "name": "python3"
  },
  "language_info": {
   "codemirror_mode": {
    "name": "ipython",
    "version": 3
   },
   "file_extension": ".py",
   "mimetype": "text/x-python",
   "name": "python",
   "nbconvert_exporter": "python",
   "pygments_lexer": "ipython3",
   "version": "3.9.7"
  }
 },
 "nbformat": 4,
 "nbformat_minor": 5
}
