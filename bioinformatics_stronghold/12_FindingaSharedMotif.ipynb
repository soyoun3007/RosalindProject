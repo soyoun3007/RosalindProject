{
 "cells": [
  {
   "cell_type": "markdown",
   "id": "a6333f8c",
   "metadata": {},
   "source": [
    "https://rosalind.info/problems/lcsm/"
   ]
  },
  {
   "cell_type": "code",
   "execution_count": 10,
   "id": "87cb6d95",
   "metadata": {},
   "outputs": [
    {
     "name": "stdout",
     "output_type": "stream",
     "text": [
      "ATCACGAAAACTTCATTACCAGGCAACCCGTTCATAATGTTAGTAGCCAACGAAACGACCATGACCCGGGCGTCGTTCCCCATGCTCCAGTGAACATACATTAGATGGCCTTCTGGCATCAACCCGTGGGGTATTGGACTGGCTCTGCTAATCGTCGCCGGCCCGGTGGTTCTCCATTACCAGCGAACAATAAAGAGCGTCGGAGACCCAATGA\n"
     ]
    }
   ],
   "source": [
    "from Bio import SeqIO\n",
    "from Bio import motifs\n",
    "\n",
    "file = \"sample.txt\"\n",
    "\n",
    "with open(file) as f:\n",
    "    genes = list(SeqIO.parse(f, \"fasta\"))\n",
    "    dna_strings = [gene.seq for gene in genes]\n",
    "\n",
    "def find_shared_motif(dna_list):\n",
    "    \n",
    "    sorted_list = sorted(dna_list, key=len)\n",
    "    \n",
    "    shared_motif = \"\"\n",
    "    \n",
    "    shortest = sorted_list[0]\n",
    "    others = sorted_list[1:]\n",
    "    \n",
    "    for i in range(0, len(shortest)):\n",
    "        for j in range(i, len(shortest)):\n",
    "            motif = shortest[i:j+1]\n",
    "            found_motif = False\n",
    "            for seq in others:\n",
    "                if motif not in seq:\n",
    "                    found_motif = False\n",
    "                    break\n",
    "                elif motif in seq:\n",
    "                    found_motif = True\n",
    "                    \n",
    "            if found_motif == True and len(motif) > len(shared_motif):\n",
    "                shared_motif = motif\n",
    "                \n",
    "    return shared_motif\n",
    "\n",
    "print(find_shared_motif(dna_strings))"
   ]
  },
  {
   "cell_type": "code",
   "execution_count": null,
   "id": "baa27bf8",
   "metadata": {},
   "outputs": [],
   "source": []
  }
 ],
 "metadata": {
  "kernelspec": {
   "display_name": "Python 3 (ipykernel)",
   "language": "python",
   "name": "python3"
  },
  "language_info": {
   "codemirror_mode": {
    "name": "ipython",
    "version": 3
   },
   "file_extension": ".py",
   "mimetype": "text/x-python",
   "name": "python",
   "nbconvert_exporter": "python",
   "pygments_lexer": "ipython3",
   "version": "3.9.7"
  }
 },
 "nbformat": 4,
 "nbformat_minor": 5
}
