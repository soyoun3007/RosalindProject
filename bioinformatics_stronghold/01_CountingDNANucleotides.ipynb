{
 "cells": [
  {
   "cell_type": "markdown",
   "id": "0a8dae6c",
   "metadata": {},
   "source": [
    "https://rosalind.info/problems/dna/"
   ]
  },
  {
   "cell_type": "code",
   "execution_count": 1,
   "id": "71eb0fe4",
   "metadata": {},
   "outputs": [
    {
     "name": "stdout",
     "output_type": "stream",
     "text": [
      "20 12 17 21\n"
     ]
    }
   ],
   "source": [
    "from Bio.Seq import Seq \n",
    "\n",
    "file = \"sample.txt\"\n",
    "\n",
    "with open(file, \"r\") as f:\n",
    "    seq = Seq(f.read())\n",
    "    print(seq.count(\"A\"), seq.count(\"C\"), seq.count(\"G\"), seq.count(\"T\"))"
   ]
  },
  {
   "cell_type": "code",
   "execution_count": null,
   "id": "c6dc4f18",
   "metadata": {},
   "outputs": [],
   "source": []
  }
 ],
 "metadata": {
  "kernelspec": {
   "display_name": "Python 3 (ipykernel)",
   "language": "python",
   "name": "python3"
  },
  "language_info": {
   "codemirror_mode": {
    "name": "ipython",
    "version": 3
   },
   "file_extension": ".py",
   "mimetype": "text/x-python",
   "name": "python",
   "nbconvert_exporter": "python",
   "pygments_lexer": "ipython3",
   "version": "3.9.7"
  }
 },
 "nbformat": 4,
 "nbformat_minor": 5
}
