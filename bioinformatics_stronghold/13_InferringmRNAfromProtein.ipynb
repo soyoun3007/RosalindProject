{
 "cells": [
  {
   "cell_type": "markdown",
   "id": "067cabcd",
   "metadata": {},
   "source": [
    "https://rosalind.info/problems/mrna/"
   ]
  },
  {
   "cell_type": "code",
   "execution_count": 2,
   "id": "f9d0054c",
   "metadata": {},
   "outputs": [],
   "source": [
    "def find_num_rna(aa_seq):\n",
    "    rna_codon_table = {\n",
    "        'UUU': 'F',     'CUU': 'L',     'AUU': 'I',     'GUU': 'V',\n",
    "        'UUC': 'F',     'CUC': 'L',     'AUC': 'I',     'GUC': 'V',\n",
    "        'UUA': 'L',     'CUA': 'L',     'AUA': 'I',     'GUA': 'V',\n",
    "        'UUG': 'L',     'CUG': 'L',     'AUG': 'M',     'GUG': 'V',\n",
    "        'UCU': 'S',     'CCU': 'P',     'ACU': 'T',     'GCU': 'A',\n",
    "        'UCC': 'S',     'CCC': 'P',     'ACC': 'T',     'GCC': 'A',\n",
    "        'UCA': 'S',     'CCA': 'P',     'ACA': 'T',     'GCA': 'A',\n",
    "        'UCG': 'S',     'CCG': 'P',     'ACG': 'T',     'GCG': 'A',\n",
    "        'UAU': 'Y',     'CAU': 'H',     'AAU': 'N',     'GAU': 'D',\n",
    "        'UAC': 'Y',     'CAC': 'H',     'AAC': 'N',     'GAC': 'D',\n",
    "        'UAA': 'Stop',  'CAA': 'Q',     'AAA': 'K',     'GAA': 'E',\n",
    "        'UAG': 'Stop',  'CAG': 'Q',     'AAG': 'K',     'GAG': 'E',\n",
    "        'UGU': 'C',     'CGU': 'R',     'AGU': 'S',     'GGU': 'G',\n",
    "        'UGC': 'C',     'CGC': 'R',     'AGC': 'S',     'GGC': 'G',\n",
    "        'UGA': 'Stop',  'CGA': 'R',     'AGA': 'R',     'GGA': 'G',\n",
    "        'UGG': 'W',     'CGG': 'R',     'AGG': 'R',     'GGG': 'G'\n",
    "    }\n",
    "    \n",
    "    total_pos = 1\n",
    "    num_list = []\n",
    "    for i in range(0, len(aa_seq)):\n",
    "        num_key = 0\n",
    "        for key, value in rna_codon_table.items():\n",
    "            if value == aa_seq[i]:\n",
    "                num_key += 1\n",
    "        num_list.append(num_key)\n",
    "\n",
    "    for num in num_list:\n",
    "        if num !=0:\n",
    "            total_pos = total_pos*num\n",
    "\n",
    "    result = (total_pos*3) % 1000000\n",
    "    return result"
   ]
  },
  {
   "cell_type": "code",
   "execution_count": 8,
   "id": "ea238fa8",
   "metadata": {},
   "outputs": [
    {
     "name": "stdout",
     "output_type": "stream",
     "text": [
      "649024\n"
     ]
    }
   ],
   "source": [
    "file = \"sample.txt\"\n",
    "\n",
    "aa_seq = \"\"\n",
    "\n",
    "with open(file, \"r\") as f1:\n",
    "    lines = f1.readlines()\n",
    "    for line in lines:\n",
    "        aa_seq += line.strip()\n",
    "\n",
    "print(find_num_rna(aa_seq))\n"
   ]
  },
  {
   "cell_type": "code",
   "execution_count": null,
   "id": "17603dd9",
   "metadata": {},
   "outputs": [],
   "source": []
  }
 ],
 "metadata": {
  "kernelspec": {
   "display_name": "Python 3 (ipykernel)",
   "language": "python",
   "name": "python3"
  },
  "language_info": {
   "codemirror_mode": {
    "name": "ipython",
    "version": 3
   },
   "file_extension": ".py",
   "mimetype": "text/x-python",
   "name": "python",
   "nbconvert_exporter": "python",
   "pygments_lexer": "ipython3",
   "version": "3.9.7"
  }
 },
 "nbformat": 4,
 "nbformat_minor": 5
}
