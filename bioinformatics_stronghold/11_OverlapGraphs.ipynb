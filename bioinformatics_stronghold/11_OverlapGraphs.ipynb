{
 "cells": [
  {
   "cell_type": "markdown",
   "id": "17d8d7ae",
   "metadata": {},
   "source": [
    "https://rosalind.info/problems/grph/"
   ]
  },
  {
   "cell_type": "code",
   "execution_count": 1,
   "id": "55fb53b8",
   "metadata": {},
   "outputs": [
    {
     "name": "stdout",
     "output_type": "stream",
     "text": [
      "Rosalind_0498 Rosalind_2391\n",
      "Rosalind_0498 Rosalind_0442\n",
      "Rosalind_2391 Rosalind_2323\n"
     ]
    }
   ],
   "source": [
    "from Bio import SeqIO\n",
    "\n",
    "file = \"sample.txt\"\n",
    "\n",
    "record_list = list(SeqIO.parse(file, \"fasta\"))\n",
    "\n",
    "gene_id = []\n",
    "gene_seq = []\n",
    "\n",
    "for i in range(len(record_list)):\n",
    "    record_id = record_list[i].id\n",
    "    gene_id.append(record_id)\n",
    "    record_seq = record_list[i].seq\n",
    "    gene_seq.append(record_seq)\n",
    "\n",
    "def find_overlap(seq1, seq2):\n",
    "    overlap = False\n",
    "    for i in range(0, len(seq1)):\n",
    "        if seq1[i:] == seq2[:len(seq1)-i]:\n",
    "            if len(seq1[i:]) == 3:\n",
    "                overlap = True\n",
    "                break\n",
    "    return overlap\n",
    "\n",
    "for i in range(0, len(gene_seq)):\n",
    "    for j in range(0, len(gene_seq)):\n",
    "        if gene_seq[i] != gene_seq[j]:\n",
    "            if find_overlap(gene_seq[i], gene_seq[j]) == True:\n",
    "                print(gene_id[i], gene_id[j])"
   ]
  },
  {
   "cell_type": "code",
   "execution_count": null,
   "id": "53810a75",
   "metadata": {},
   "outputs": [],
   "source": []
  }
 ],
 "metadata": {
  "kernelspec": {
   "display_name": "Python 3 (ipykernel)",
   "language": "python",
   "name": "python3"
  },
  "language_info": {
   "codemirror_mode": {
    "name": "ipython",
    "version": 3
   },
   "file_extension": ".py",
   "mimetype": "text/x-python",
   "name": "python",
   "nbconvert_exporter": "python",
   "pygments_lexer": "ipython3",
   "version": "3.9.7"
  }
 },
 "nbformat": 4,
 "nbformat_minor": 5
}
