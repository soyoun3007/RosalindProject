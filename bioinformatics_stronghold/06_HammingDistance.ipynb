{
 "cells": [
  {
   "cell_type": "markdown",
   "id": "acc2a365",
   "metadata": {},
   "source": [
    "https://rosalind.info/problems/hamm/"
   ]
  },
  {
   "cell_type": "code",
   "execution_count": 4,
   "id": "f28327bd",
   "metadata": {},
   "outputs": [
    {
     "name": "stdout",
     "output_type": "stream",
     "text": [
      "7\n"
     ]
    }
   ],
   "source": [
    "file = \"sample.txt\"\n",
    "\n",
    "with open(file, \"r\") as f:\n",
    "    lines = f.read().splitlines()\n",
    "    dna1 = lines[0]\n",
    "    dna2 = lines[1]\n",
    "    \n",
    "    hamming_distance = sum(a != b for a, b in zip(dna1, dna2))\n",
    "\n",
    "    print(hamming_distance)"
   ]
  },
  {
   "cell_type": "code",
   "execution_count": null,
   "id": "313290f9",
   "metadata": {},
   "outputs": [],
   "source": []
  }
 ],
 "metadata": {
  "kernelspec": {
   "display_name": "Python 3 (ipykernel)",
   "language": "python",
   "name": "python3"
  },
  "language_info": {
   "codemirror_mode": {
    "name": "ipython",
    "version": 3
   },
   "file_extension": ".py",
   "mimetype": "text/x-python",
   "name": "python",
   "nbconvert_exporter": "python",
   "pygments_lexer": "ipython3",
   "version": "3.9.7"
  }
 },
 "nbformat": 4,
 "nbformat_minor": 5
}
