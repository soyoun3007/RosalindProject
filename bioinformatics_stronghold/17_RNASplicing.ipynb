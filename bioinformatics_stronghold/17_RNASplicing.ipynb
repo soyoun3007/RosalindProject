{
 "cells": [
  {
   "cell_type": "markdown",
   "id": "1c866bb7",
   "metadata": {},
   "source": [
    "https://rosalind.info/problems/splc/"
   ]
  },
  {
   "cell_type": "code",
   "execution_count": 4,
   "id": "41d04db9",
   "metadata": {},
   "outputs": [
    {
     "name": "stdout",
     "output_type": "stream",
     "text": [
      "MGYRSSREAAGATMVRLLSRPCSAATSLGLYVIGCCILAERWRRVAPGVVCFSQKAPSAWEFVTPTSNGSFNAQGQVVVSKAEHVSKYLTGHLWTLAFKINGACWPRQNSARHPHNDYGGRLYVAQPDYFPRQQDRSTRRRHCRRTSRRRVKNGTQKRRISAIGSPQPTGGARPS\n"
     ]
    }
   ],
   "source": [
    "from Bio import SeqIO\n",
    "\n",
    "file = \"problem.txt\"\n",
    "\n",
    "def get_seq_list(file):\n",
    "    genes = list(SeqIO.parse(file, \"fasta\"))\n",
    "    dna_seq = []\n",
    "\n",
    "    for i in range(0, len(genes)):\n",
    "        dna_seq.append(str(genes[i].seq))\n",
    "\n",
    "    return dna_seq\n",
    "\n",
    "def get_exons(seq_list):\n",
    "    all_seq = seq_list[0]\n",
    "    intron_list = seq_list[1:]\n",
    "\n",
    "    for intron in intron_list:\n",
    "        all_seq = all_seq.replace(intron, \"\")\n",
    "    \n",
    "    return all_seq\n",
    "\n",
    "def dna_to_rna(dna_seq):\n",
    "    rna = dna_seq.replace(\"T\", \"U\") \n",
    "    return rna\n",
    "\n",
    "def find_orf(file):\n",
    "    rna_codon_table = {\n",
    "        'UUU': 'F',     'CUU': 'L',     'AUU': 'I',     'GUU': 'V',\n",
    "        'UUC': 'F',     'CUC': 'L',     'AUC': 'I',     'GUC': 'V',\n",
    "        'UUA': 'L',     'CUA': 'L',     'AUA': 'I',     'GUA': 'V',\n",
    "        'UUG': 'L',     'CUG': 'L',     'AUG': 'M',     'GUG': 'V',\n",
    "        'UCU': 'S',     'CCU': 'P',     'ACU': 'T',     'GCU': 'A',\n",
    "        'UCC': 'S',     'CCC': 'P',     'ACC': 'T',     'GCC': 'A',\n",
    "        'UCA': 'S',     'CCA': 'P',     'ACA': 'T',     'GCA': 'A',\n",
    "        'UCG': 'S',     'CCG': 'P',     'ACG': 'T',     'GCG': 'A',\n",
    "        'UAU': 'Y',     'CAU': 'H',     'AAU': 'N',     'GAU': 'D',\n",
    "        'UAC': 'Y',     'CAC': 'H',     'AAC': 'N',     'GAC': 'D',\n",
    "        'UAA': 'Stop',  'CAA': 'Q',     'AAA': 'K',     'GAA': 'E',\n",
    "        'UAG': 'Stop',  'CAG': 'Q',     'AAG': 'K',     'GAG': 'E',\n",
    "        'UGU': 'C',     'CGU': 'R',     'AGU': 'S',     'GGU': 'G',\n",
    "        'UGC': 'C',     'CGC': 'R',     'AGC': 'S',     'GGC': 'G',\n",
    "        'UGA': 'Stop',  'CGA': 'R',     'AGA': 'R',     'GGA': 'G',\n",
    "        'UGG': 'W',     'CGG': 'R',     'AGG': 'R',     'GGG': 'G'\n",
    "    }\n",
    "    \n",
    "    seq_list = get_seq_list(file)\n",
    "    intron_seq = get_exons(seq_list)\n",
    "    rna = dna_to_rna(intron_seq)\n",
    "\n",
    "    aa_seq = \"\"\n",
    "\n",
    "    if rna[0:3] == \"AUG\" and rna[-3:] in ('UAA', 'UAG', 'UGA'):\n",
    "        for i in range(0, len(rna), 3):\n",
    "            codon = rna[i:i+3]\n",
    "            tRNA_aa = rna_codon_table[codon]\n",
    "            if tRNA_aa != \"Stop\":\n",
    "                aa_seq += tRNA_aa\n",
    "\n",
    "    return print(aa_seq)\n",
    "\n",
    "\n",
    "find_orf(file)\n"
   ]
  },
  {
   "cell_type": "code",
   "execution_count": null,
   "id": "1a446487",
   "metadata": {},
   "outputs": [],
   "source": []
  }
 ],
 "metadata": {
  "kernelspec": {
   "display_name": "Python 3 (ipykernel)",
   "language": "python",
   "name": "python3"
  },
  "language_info": {
   "codemirror_mode": {
    "name": "ipython",
    "version": 3
   },
   "file_extension": ".py",
   "mimetype": "text/x-python",
   "name": "python",
   "nbconvert_exporter": "python",
   "pygments_lexer": "ipython3",
   "version": "3.9.7"
  }
 },
 "nbformat": 4,
 "nbformat_minor": 5
}
