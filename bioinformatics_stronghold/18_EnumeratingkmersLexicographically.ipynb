{
 "cells": [
  {
   "cell_type": "markdown",
   "id": "900db4b4",
   "metadata": {},
   "source": [
    "https://rosalind.info/problems/lexf/"
   ]
  },
  {
   "cell_type": "code",
   "execution_count": 2,
   "id": "c33bb81b",
   "metadata": {},
   "outputs": [
    {
     "name": "stdout",
     "output_type": "stream",
     "text": [
      "AA\n",
      "AC\n",
      "AG\n",
      "AT\n",
      "CA\n",
      "CC\n",
      "CG\n",
      "CT\n",
      "GA\n",
      "GC\n",
      "GG\n",
      "GT\n",
      "TA\n",
      "TC\n",
      "TG\n",
      "TT\n"
     ]
    }
   ],
   "source": [
    "from itertools import product\n",
    "\n",
    "file = \"sample.txt\"\n",
    "\n",
    "def iter_symbols(file):\n",
    "    with open(file, \"r\") as f1:\n",
    "        lines = f1.readlines() # read all lines\n",
    "        # symbol_str = lines[0].replace(\" \", \"\").rstrip() # remove gap \" \" and \"\\n\"\n",
    "        symbol_str = lines[0].split()\n",
    "        str_lenght = int(lines[1])\n",
    "\n",
    "    return_list = [*map(\"\".join, product(symbol_str, repeat = str_lenght))]\n",
    "    return return_list\n",
    "\n",
    "order_list = iter_symbols(file)\n",
    "for item in order_list:\n",
    "    print(item)\n"
   ]
  },
  {
   "cell_type": "code",
   "execution_count": null,
   "id": "436599e4",
   "metadata": {},
   "outputs": [],
   "source": []
  }
 ],
 "metadata": {
  "kernelspec": {
   "display_name": "Python 3 (ipykernel)",
   "language": "python",
   "name": "python3"
  },
  "language_info": {
   "codemirror_mode": {
    "name": "ipython",
    "version": 3
   },
   "file_extension": ".py",
   "mimetype": "text/x-python",
   "name": "python",
   "nbconvert_exporter": "python",
   "pygments_lexer": "ipython3",
   "version": "3.9.7"
  }
 },
 "nbformat": 4,
 "nbformat_minor": 5
}
