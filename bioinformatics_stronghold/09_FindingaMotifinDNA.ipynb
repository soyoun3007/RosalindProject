{
 "cells": [
  {
   "cell_type": "markdown",
   "id": "b7f0f884",
   "metadata": {},
   "source": [
    "https://rosalind.info/problems/subs/"
   ]
  },
  {
   "cell_type": "code",
   "execution_count": 2,
   "id": "7f661ec8",
   "metadata": {},
   "outputs": [
    {
     "name": "stdout",
     "output_type": "stream",
     "text": [
      "2 4 10\n"
     ]
    }
   ],
   "source": [
    "file = \"sample.txt\"\n",
    "\n",
    "with open(file, \"r\") as f:\n",
    "    lines = f.readlines()\n",
    "    string = lines[0].rstrip()\n",
    "    substring = lines[1].rstrip()\n",
    "    \n",
    "    location = []\n",
    "    \n",
    "    for i in range(0, len(string)):\n",
    "        if string[i:i+len(substring)] == substring:\n",
    "            location.append(i+1)\n",
    "\n",
    "    print(*location)"
   ]
  },
  {
   "cell_type": "code",
   "execution_count": null,
   "id": "334f94fc",
   "metadata": {},
   "outputs": [],
   "source": []
  }
 ],
 "metadata": {
  "kernelspec": {
   "display_name": "Python 3 (ipykernel)",
   "language": "python",
   "name": "python3"
  },
  "language_info": {
   "codemirror_mode": {
    "name": "ipython",
    "version": 3
   },
   "file_extension": ".py",
   "mimetype": "text/x-python",
   "name": "python",
   "nbconvert_exporter": "python",
   "pygments_lexer": "ipython3",
   "version": "3.9.7"
  }
 },
 "nbformat": 4,
 "nbformat_minor": 5
}
