{
 "cells": [
  {
   "cell_type": "markdown",
   "id": "aa0f4102",
   "metadata": {},
   "source": [
    "https://rosalind.info/problems/gc/"
   ]
  },
  {
   "cell_type": "code",
   "execution_count": 7,
   "id": "bb2ca926",
   "metadata": {},
   "outputs": [
    {
     "name": "stdout",
     "output_type": "stream",
     "text": [
      "Rosalind_7180\n",
      "52.982456\n"
     ]
    }
   ],
   "source": [
    "from Bio import SeqIO\n",
    "from Bio.SeqUtils import GC\n",
    "\n",
    "file = \"problem.txt\"\n",
    "\n",
    "with open(file, \"r\") as f:\n",
    "    handle = SeqIO.parse(f, \"fasta\")\n",
    "    record_id = \"\"\n",
    "    gc = 0\n",
    "    for record in handle:\n",
    "        if GC(record.seq) > gc:\n",
    "            gc = GC(record.seq)\n",
    "            record_id = record.id\n",
    "    print(record_id)\n",
    "    print(format(gc, \".6f\"))\n"
   ]
  },
  {
   "cell_type": "code",
   "execution_count": null,
   "id": "422a9621",
   "metadata": {},
   "outputs": [],
   "source": []
  }
 ],
 "metadata": {
  "kernelspec": {
   "display_name": "Python 3 (ipykernel)",
   "language": "python",
   "name": "python3"
  },
  "language_info": {
   "codemirror_mode": {
    "name": "ipython",
    "version": 3
   },
   "file_extension": ".py",
   "mimetype": "text/x-python",
   "name": "python",
   "nbconvert_exporter": "python",
   "pygments_lexer": "ipython3",
   "version": "3.9.7"
  }
 },
 "nbformat": 4,
 "nbformat_minor": 5
}
