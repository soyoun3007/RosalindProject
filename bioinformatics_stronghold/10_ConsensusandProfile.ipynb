{
 "cells": [
  {
   "cell_type": "markdown",
   "id": "8f8c914c",
   "metadata": {},
   "source": [
    "https://rosalind.info/problems/cons/"
   ]
  },
  {
   "cell_type": "code",
   "execution_count": 1,
   "id": "174deb02",
   "metadata": {},
   "outputs": [
    {
     "name": "stdout",
     "output_type": "stream",
     "text": [
      "ATGCAACT\n",
      "A: 5 1 0 0 5 5 0 0\n",
      "C: 0 0 1 4 2 0 6 1\n",
      "G: 1 1 6 3 0 1 0 0\n",
      "T: 1 5 0 0 0 1 1 6\n"
     ]
    }
   ],
   "source": [
    "from Bio import SeqIO\n",
    "import numpy as np\n",
    "\n",
    "file = \"sample.txt\"\n",
    "\n",
    "def make_profile(file):\n",
    "    with open(file, \"r\") as f:\n",
    "        handle = list(SeqIO.parse(file, \"fasta\"))\n",
    "        seq_list = np.array([handle[i].seq for i in range(0, len(handle))])\n",
    "\n",
    "        string = [0 for i in range(0, len(handle[0].seq))]\n",
    "        profile = np.array([string for i in range(0, 4)])\n",
    "\n",
    "        for i in range(0, len(seq_list)):\n",
    "            for j in range(0, len(seq_list[i])):\n",
    "                if seq_list[i][j] == \"A\":\n",
    "                    profile[0][j] += 1\n",
    "                elif seq_list[i][j] == \"C\":\n",
    "                    profile[1][j] += 1\n",
    "                elif seq_list[i][j] == \"G\":\n",
    "                    profile[2][j] += 1\n",
    "                elif seq_list[i][j] == \"T\":\n",
    "                    profile[3][j] += 1\n",
    "\n",
    "        return profile\n",
    "\n",
    "def find_consensus_string(profile):\n",
    "    profile_max = np.amax(profile, axis=0)\n",
    "    \n",
    "    consensus_string = \"\"\n",
    "    \n",
    "    for i in range(len(profile_max)):\n",
    "        for j in range(len(nucleotides)):\n",
    "            if profile_max[i] == profile[j][i]:\n",
    "                consensus_string += nucleotides[j]\n",
    "                break\n",
    "                \n",
    "    return consensus_string\n",
    "\n",
    "profile = make_profile(file)\n",
    "nucleotides = [\"A\", \"C\", \"G\", \"T\"]\n",
    "\n",
    "consensus_string = find_consensus_string(profile)\n",
    "print(consensus_string)\n",
    "\n",
    "for i in range(len(nucleotides)):\n",
    "    print(f\"{nucleotides[i]}:\", *profile[i])\n"
   ]
  }
 ],
 "metadata": {
  "kernelspec": {
   "display_name": "Python 3 (ipykernel)",
   "language": "python",
   "name": "python3"
  },
  "language_info": {
   "codemirror_mode": {
    "name": "ipython",
    "version": 3
   },
   "file_extension": ".py",
   "mimetype": "text/x-python",
   "name": "python",
   "nbconvert_exporter": "python",
   "pygments_lexer": "ipython3",
   "version": "3.9.7"
  }
 },
 "nbformat": 4,
 "nbformat_minor": 5
}
