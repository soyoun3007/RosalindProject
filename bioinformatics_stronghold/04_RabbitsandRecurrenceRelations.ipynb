{
 "cells": [
  {
   "cell_type": "markdown",
   "id": "9bab838d",
   "metadata": {},
   "source": [
    "https://rosalind.info/problems/fib/"
   ]
  },
  {
   "cell_type": "code",
   "execution_count": 2,
   "id": "748afccb",
   "metadata": {},
   "outputs": [
    {
     "name": "stdout",
     "output_type": "stream",
     "text": [
      "436390025825\n"
     ]
    }
   ],
   "source": [
    "file = \"sample.txt\"\n",
    "\n",
    "def fib(n, k):\n",
    "    n1, n2 = 1, 1\n",
    "    for i in range(2, n):\n",
    "        n1, n2 = n2, n1*k+n2\n",
    "        \n",
    "    return n2\n",
    "\n",
    "with open(file, \"r\") as f:\n",
    "    line = f.readline().rsplit(\" \")\n",
    "    n, k = int(line[0]), int(line[1])\n",
    "    \n",
    "    print(fib(n, k))"
   ]
  }
 ],
 "metadata": {
  "kernelspec": {
   "display_name": "Python 3 (ipykernel)",
   "language": "python",
   "name": "python3"
  },
  "language_info": {
   "codemirror_mode": {
    "name": "ipython",
    "version": 3
   },
   "file_extension": ".py",
   "mimetype": "text/x-python",
   "name": "python",
   "nbconvert_exporter": "python",
   "pygments_lexer": "ipython3",
   "version": "3.9.7"
  }
 },
 "nbformat": 4,
 "nbformat_minor": 5
}
