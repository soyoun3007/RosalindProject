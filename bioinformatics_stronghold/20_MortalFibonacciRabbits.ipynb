{
 "cells": [
  {
   "cell_type": "markdown",
   "id": "8a16ee8d",
   "metadata": {},
   "source": [
    "https://rosalind.info/problems/fibd/"
   ]
  },
  {
   "cell_type": "code",
   "execution_count": 5,
   "id": "dfdb14e6",
   "metadata": {},
   "outputs": [
    {
     "name": "stdout",
     "output_type": "stream",
     "text": [
      "676172117379838466\n"
     ]
    }
   ],
   "source": [
    "file = \"sample.txt\"\n",
    "\n",
    "def mortal_fib(n, m):\n",
    "    \n",
    "    pair_list = [1, 1] # 1st and 2nd month\n",
    "    months = 2\n",
    "    \n",
    "    while months < n:\n",
    "        if months < m:\n",
    "            pair_list.append(pair_list[-2]+pair_list[-1])\n",
    "        elif months == m:\n",
    "            pair_list.append(pair_list[-2]+pair_list[-1]-1)\n",
    "        else:\n",
    "            pair_list.append(pair_list[-2]+pair_list[-1]-pair_list[-(m+1)])\n",
    "        months += 1    \n",
    "    \n",
    "    return pair_list[-1]\n",
    "        \n",
    "with open(file) as f:\n",
    "    num = [int(val) for val in f.read().split(\" \")]\n",
    "    n, m = num[0], num[1]\n",
    "    n_month_pairs = mortal_fib(n, m)\n",
    "    print(n_month_pairs)"
   ]
  },
  {
   "cell_type": "code",
   "execution_count": null,
   "id": "6cc2e7c4",
   "metadata": {},
   "outputs": [],
   "source": []
  }
 ],
 "metadata": {
  "kernelspec": {
   "display_name": "Python 3 (ipykernel)",
   "language": "python",
   "name": "python3"
  },
  "language_info": {
   "codemirror_mode": {
    "name": "ipython",
    "version": 3
   },
   "file_extension": ".py",
   "mimetype": "text/x-python",
   "name": "python",
   "nbconvert_exporter": "python",
   "pygments_lexer": "ipython3",
   "version": "3.9.7"
  }
 },
 "nbformat": 4,
 "nbformat_minor": 5
}
