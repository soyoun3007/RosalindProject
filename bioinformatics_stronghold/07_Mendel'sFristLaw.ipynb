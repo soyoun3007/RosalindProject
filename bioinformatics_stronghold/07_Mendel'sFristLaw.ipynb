{
 "cells": [
  {
   "cell_type": "markdown",
   "id": "23ae5165",
   "metadata": {},
   "source": [
    "https://rosalind.info/problems/iprb/"
   ]
  },
  {
   "cell_type": "code",
   "execution_count": 26,
   "id": "cb045c3e",
   "metadata": {},
   "outputs": [
    {
     "name": "stdout",
     "output_type": "stream",
     "text": [
      "0.70863\n"
     ]
    }
   ],
   "source": [
    "def mendel(k, m, n):\n",
    "    #calculate the probability of recessive traits only\n",
    "    total = k+m+n\n",
    "    twoRecess = (n/total)*((n-1)/(total-1))\n",
    "    twoHetero = (m/total)*((m-1)/(total-1))\n",
    "    heteroRecess = (n/total)*(m/(total-1)) + (m/total)*(n/(total-1))\n",
    "\n",
    "    recessProb = twoRecess + twoHetero*0.25 + heteroRecess*0.5\n",
    "    return 1-recessProb # take the complement\n",
    "\n",
    "file = \"sample.txt\"\n",
    "\n",
    "with open(file, \"r\") as f:\n",
    "    line = f.read().rstrip()\n",
    "    line = [int(num) for num in line.split(\" \")]\n",
    "    k, m, n = line[0], line[1], line[2]\n",
    "    pro = mendel(k, m, n)\n",
    "    print(round(pro, 5))"
   ]
  }
 ],
 "metadata": {
  "kernelspec": {
   "display_name": "Python 3 (ipykernel)",
   "language": "python",
   "name": "python3"
  },
  "language_info": {
   "codemirror_mode": {
    "name": "ipython",
    "version": 3
   },
   "file_extension": ".py",
   "mimetype": "text/x-python",
   "name": "python",
   "nbconvert_exporter": "python",
   "pygments_lexer": "ipython3",
   "version": "3.9.7"
  }
 },
 "nbformat": 4,
 "nbformat_minor": 5
}
