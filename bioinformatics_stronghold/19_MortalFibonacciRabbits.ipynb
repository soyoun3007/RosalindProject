{
 "cells": [
  {
   "cell_type": "markdown",
   "id": "6f9b1f67",
   "metadata": {},
   "source": [
    "https://rosalind.info/problems/fibd/"
   ]
  },
  {
   "cell_type": "code",
   "execution_count": 3,
   "id": "751861d2",
   "metadata": {},
   "outputs": [
    {
     "name": "stdout",
     "output_type": "stream",
     "text": [
      "6 3\n",
      "2\n"
     ]
    }
   ],
   "source": [
    "file = \"sample.txt\"\n",
    "\n",
    "def fib(n, m):\n",
    "    n1, n2 = 1, 1\n",
    "    for i in range(2, 3): # i = 2 is 3rd month\n",
    "        if i % 3 == 0:\n",
    "            n1, n2 = n2-n1, n1*1+n2\n",
    "        else:\n",
    "            n1, n2 = n2, n1*1+n2\n",
    "        \n",
    "    return n2\n",
    "\n",
    "with open(file, \"r\") as f:\n",
    "    line = f.readline().rsplit(\" \")\n",
    "    n, m = int(line[0]), int(line[1])\n",
    "    print(n, m)\n",
    "    print(fib(n, m))"
   ]
  },
  {
   "cell_type": "code",
   "execution_count": null,
   "id": "f1fc8d27",
   "metadata": {},
   "outputs": [],
   "source": []
  }
 ],
 "metadata": {
  "kernelspec": {
   "display_name": "Python 3 (ipykernel)",
   "language": "python",
   "name": "python3"
  },
  "language_info": {
   "codemirror_mode": {
    "name": "ipython",
    "version": 3
   },
   "file_extension": ".py",
   "mimetype": "text/x-python",
   "name": "python",
   "nbconvert_exporter": "python",
   "pygments_lexer": "ipython3",
   "version": "3.9.7"
  }
 },
 "nbformat": 4,
 "nbformat_minor": 5
}
