{
 "cells": [
  {
   "cell_type": "markdown",
   "id": "80dc773a",
   "metadata": {},
   "source": [
    "https://rosalind.info/problems/revc/"
   ]
  },
  {
   "cell_type": "code",
   "execution_count": 6,
   "id": "473fd434",
   "metadata": {},
   "outputs": [
    {
     "name": "stdout",
     "output_type": "stream",
     "text": [
      "\n",
      "CTAGACACCTCGAACTTGTATTTGATCAGGCGACCGGACCATAGGGGCGGCCTTCGGAGGGACATGACGCGTACTCACAAGTGTATCATTACCAGGCCTCGTCTCCGCGGTTATCAGGCAGGACCTAAGAGAATTCTTGTGTAGACCATAGTCTGGACTCTGAGTGACCGGTATTCTAGCACGTCCCGGCGAAAATTTACGACTCGGACATGTAAAGAGAACAGGTAGCGTAGCGTTAGTGCACAACGCGCGCATGTCTCCCCAGTCCATTCAGTATAGAGACACCCTTGCTTCAAACTGGAGCTCCACTAATTCTACTTGTCGGGTGAAGTGGGAGACTCCACGCGGGATTAAATAGATTATTCGGTGGTGAGTTGTGGACTCTGCTCTGGGCCGTACGAGACGGTGGCTAACTTTCCAACAGATGGCCTGAACGCATACCCACAAGCAGCTAGTTACCTTACGTTCGGGTTGTCTTGGTCCTTAGGCTCATAGAGTCGGAACGTACACGGCTACGACCTATCTTTAAACCCCCTCTTGAGATCATGCGTTCGGACGAGAAGCGTATATATTTGGCCATGTCTCCTCGGCCAGGGTTCAATAGGGGAGTCGCCATCATGTTCCGGAATCGTCTATAATTGCGGAAAACTCAATAAATATAAGGGTTAGGGAGTCAAAATGGATTTGTGGCCCATTGCTAGCCCACGCTACAGTCACCTGCACCTGTGTGACTAGTTGACACAATCTGAGTAGGCTTAAGGTGGGACATCTACCGTACGTCGATTCCGTCCATGACGCAATCGAATGAGACTTCTGCGTGGAAATGCATCTGTTCGCATACTGGGGGGCTCGCATCCAATAGTCTGGTCGTATTACAATCAAGCAACGTTTTTGGCAATGGAGATTCCTCCAGCATCTAAAGGGAAATGGAGGCCAGGAGCTAGCATGTGGGTAAATTTAGTGTGCCAGGA\n"
     ]
    }
   ],
   "source": [
    "from Bio.Seq import Seq\n",
    "\n",
    "file = \"sample.txt\"\n",
    "\n",
    "with open(file, \"r\") as f:\n",
    "    dna = Seq(f.read())\n",
    "    print(dna.reverse_complement())"
   ]
  },
  {
   "cell_type": "code",
   "execution_count": null,
   "id": "2575fa3e",
   "metadata": {},
   "outputs": [],
   "source": []
  }
 ],
 "metadata": {
  "kernelspec": {
   "display_name": "Python 3 (ipykernel)",
   "language": "python",
   "name": "python3"
  },
  "language_info": {
   "codemirror_mode": {
    "name": "ipython",
    "version": 3
   },
   "file_extension": ".py",
   "mimetype": "text/x-python",
   "name": "python",
   "nbconvert_exporter": "python",
   "pygments_lexer": "ipython3",
   "version": "3.9.7"
  }
 },
 "nbformat": 4,
 "nbformat_minor": 5
}
