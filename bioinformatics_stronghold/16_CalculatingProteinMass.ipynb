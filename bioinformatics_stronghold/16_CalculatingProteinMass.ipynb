{
 "cells": [
  {
   "cell_type": "markdown",
   "id": "5a52593e",
   "metadata": {},
   "source": [
    "https://rosalind.info/problems/prtm/"
   ]
  },
  {
   "cell_type": "code",
   "execution_count": 2,
   "id": "f95bc809",
   "metadata": {},
   "outputs": [
    {
     "name": "stdout",
     "output_type": "stream",
     "text": [
      "{'A': '71.03711', 'C': '103.00919', 'D': '115.02694', 'E': '129.04259', 'F': '147.06841', 'G': '57.02146', 'H': '137.05891', 'I': '113.08406', 'K': '128.09496', 'L': '113.08406', 'M': '131.04049', 'N': '114.04293', 'P': '97.05276', 'Q': '128.05858', 'R': '156.10111', 'S': '87.03203', 'T': '101.04768', 'V': '99.06841', 'W': '186.07931', 'Y': '163.06333'}\n"
     ]
    }
   ],
   "source": [
    "mmt = \"\"\"\n",
    "A   71.03711\n",
    "C   103.00919\n",
    "D   115.02694\n",
    "E   129.04259\n",
    "F   147.06841\n",
    "G   57.02146\n",
    "H   137.05891\n",
    "I   113.08406\n",
    "K   128.09496\n",
    "L   113.08406\n",
    "M   131.04049\n",
    "N   114.04293\n",
    "P   97.05276\n",
    "Q   128.05858\n",
    "R   156.10111\n",
    "S   87.03203\n",
    "T   101.04768\n",
    "V   99.06841\n",
    "W   186.07931\n",
    "Y   163.06333\n",
    "\"\"\".split()\n",
    "\n",
    "mass_dict = dict(zip(mmt[0:len(mmt):2], mmt[1:len(mmt):2]))\n",
    "print(mass_dict)"
   ]
  },
  {
   "cell_type": "code",
   "execution_count": 5,
   "id": "bb2ba6dc",
   "metadata": {},
   "outputs": [
    {
     "name": "stdout",
     "output_type": "stream",
     "text": [
      "821.392\n"
     ]
    }
   ],
   "source": [
    "from Bio.Seq import Seq\n",
    "\n",
    "file = \"sample.txt\"\n",
    "\n",
    "with open(file, \"r\") as f:\n",
    "    aa = Seq(f.read().rstrip())\n",
    "    mass = 0\n",
    "    for _ in aa:\n",
    "        mass += float(mass_dict[_])\n",
    "\n",
    "    print(round(mass, 3))"
   ]
  },
  {
   "cell_type": "code",
   "execution_count": null,
   "id": "49cae860",
   "metadata": {},
   "outputs": [],
   "source": []
  }
 ],
 "metadata": {
  "kernelspec": {
   "display_name": "Python 3 (ipykernel)",
   "language": "python",
   "name": "python3"
  },
  "language_info": {
   "codemirror_mode": {
    "name": "ipython",
    "version": 3
   },
   "file_extension": ".py",
   "mimetype": "text/x-python",
   "name": "python",
   "nbconvert_exporter": "python",
   "pygments_lexer": "ipython3",
   "version": "3.9.7"
  }
 },
 "nbformat": 4,
 "nbformat_minor": 5
}
